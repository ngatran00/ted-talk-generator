{
 "cells": [
  {
   "cell_type": "code",
   "execution_count": null,
   "metadata": {},
   "outputs": [],
   "source": [
    "import requests\n",
    "import urllib.request\n",
    "from requests.adapters import HTTPAdapter\n",
    "from requests.packages.urllib3.util.retry import Retry\n",
    "from bs4 import BeautifulSoup\n",
    "import pandas as pd\n",
    "import json\n",
    "from IPython.display import display, clear_output"
   ]
  },
  {
   "cell_type": "code",
   "execution_count": null,
   "metadata": {},
   "outputs": [],
   "source": [
    "session = requests.Session()\n",
    "retry = Retry(connect=10000, backoff_factor=5)\n",
    "adapter = HTTPAdapter(max_retries=retry)"
   ]
  },
  {
   "cell_type": "code",
   "execution_count": null,
   "metadata": {},
   "outputs": [],
   "source": [
    "talk_links = set()"
   ]
  },
  {
   "cell_type": "code",
   "execution_count": null,
   "metadata": {},
   "outputs": [],
   "source": [
    "next_page = \"https://www.ted.com/talks\"\n",
    "\n",
    "while True:\n",
    "    \n",
    "    response = session.get(next_page)\n",
    "\n",
    "    soup = BeautifulSoup(response.text, \"html.parser\")\n",
    "\n",
    "    link_as = soup.findAll('a')\n",
    "    \n",
    "    next_page = None\n",
    "    \n",
    "    for link_a in link_as:\n",
    "        if 'data-ga-context=\"talks\"' in str(link_a):\n",
    "            talk_links.add(\"https://www.ted.com\"+link_a[\"href\"]+\"/transcript?language=en\")\n",
    "        if 'rel=\"next\"' in str(link_a):\n",
    "            next_page = \"https://www.ted.com\"+link_a[\"href\"]\n",
    "    \n",
    "    if next_page is None:\n",
    "        break"
   ]
  },
  {
   "cell_type": "code",
   "execution_count": null,
   "metadata": {},
   "outputs": [],
   "source": [
    "len_talklinks = len(talk_links)"
   ]
  },
  {
   "cell_type": "code",
   "execution_count": null,
   "metadata": {},
   "outputs": [],
   "source": [
    "data = []\n",
    "\n",
    "i = 1\n",
    "failed = 0\n",
    "\n",
    "for talk_link in talk_links:\n",
    "\n",
    "    response = session.get(talk_link)\n",
    "    \n",
    "    soup = BeautifulSoup(response.text, \"html.parser\")\n",
    "    \n",
    "    if \"Sorry, we can’t find that.\" in str(soup):\n",
    "        failed += 1\n",
    "        pass\n",
    "        \n",
    "    else:\n",
    "        page_info = [i.string.lstrip('q(\"talkPage.init\", ').rstrip(')') for i in soup.select('script') if i.string and i.string.startswith('q')][0]\n",
    "\n",
    "        page_info_data = json.loads(page_info)[\"__INITIAL_DATA__\"]\n",
    "\n",
    "        tags = (page_info_data[\"talks\"][0][\"tags\"])\n",
    "        \n",
    "        link_ps = soup.findAll('p')\n",
    "\n",
    "        script = \"\"\n",
    "\n",
    "        for link_p in link_ps:\n",
    "            if \"TED.com translations are made possible by volunteer\" in link_p.text:\n",
    "                break\n",
    "            script += (' '.join(str(link_p.text).split())) + \"\\n\"\n",
    "            \n",
    "        for tag in tags:\n",
    "            data.append([tag, script])\n",
    "            \n",
    "    clear_output(wait=True)\n",
    "    display('Percentage: '+str(i*100/len_talklinks) + '%, Failed: '+str(failed*100/len_talklinks)+\"%\")\n",
    "    i+=1"
   ]
  },
  {
   "cell_type": "code",
   "execution_count": null,
   "metadata": {},
   "outputs": [],
   "source": [
    "df = pd.DataFrame (data, columns = [\"Tag\", \"Script\"])"
   ]
  },
  {
   "cell_type": "code",
   "execution_count": null,
   "metadata": {},
   "outputs": [],
   "source": [
    "df.to_csv('script.csv', encoding='utf-8', index=False)"
   ]
  },
  {
   "cell_type": "code",
   "execution_count": null,
   "metadata": {},
   "outputs": [],
   "source": []
  }
 ],
 "metadata": {
  "kernelspec": {
   "display_name": "Python 3",
   "language": "python",
   "name": "python3"
  },
  "language_info": {
   "codemirror_mode": {
    "name": "ipython",
    "version": 3
   },
   "file_extension": ".py",
   "mimetype": "text/x-python",
   "name": "python",
   "nbconvert_exporter": "python",
   "pygments_lexer": "ipython3",
   "version": "3.7.6"
  }
 },
 "nbformat": 4,
 "nbformat_minor": 4
}
